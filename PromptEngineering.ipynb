{
 "cells": [
  {
   "cell_type": "markdown",
   "metadata": {},
   "source": [
    "# Prompt Engineering Langchain"
   ]
  },
  {
   "cell_type": "code",
   "execution_count": 2,
   "metadata": {},
   "outputs": [],
   "source": [
    "import os\n",
    "os.environ['OPENAI_API_KEY'] = '0Uk5jVfohbkFJRlWrv02sXu3wNm' # keep the secret Open AI API key of yours here"
   ]
  },
  {
   "cell_type": "code",
   "execution_count": 3,
   "metadata": {},
   "outputs": [
    {
     "data": {
      "text/plain": [
       "'I want you to act as a acting financial advisor for people. In an easy way, explain the basics of income tax.'"
      ]
     },
     "execution_count": 3,
     "metadata": {},
     "output_type": "execute_result"
    }
   ],
   "source": [
    "from langchain import PromptTemplate\n",
    "\n",
    "demo_template = '''I want you to act as a acting financial advisor for people. In an easy way, explain the basics of {financial_concept}.'''\n",
    "\n",
    "prompt = PromptTemplate(\n",
    "    input_variables=['financial_concept'], \n",
    "    template=demo_template\n",
    "    )\n",
    "\n",
    "prompt.format(financial_concept='income tax')"
   ]
  },
  {
   "cell_type": "code",
   "execution_count": 5,
   "metadata": {},
   "outputs": [],
   "source": [
    "from langchain.llms import OpenAI\n",
    "from langchain.chains import LLMChain\n",
    "\n",
    "llm = OpenAI(temperature= 0.7)\n",
    "chain1 = LLMChain(llm=llm, prompt= prompt) #this prompt is the prompt variable we have created in cell 3"
   ]
  },
  {
   "cell_type": "code",
   "execution_count": 6,
   "metadata": {},
   "outputs": [
    {
     "name": "stderr",
     "output_type": "stream",
     "text": [
      "c:\\Users\\sangi\\anaconda3\\Lib\\site-packages\\langchain_core\\_api\\deprecation.py:117: LangChainDeprecationWarning: The function `run` was deprecated in LangChain 0.1.0 and will be removed in 0.2.0. Use invoke instead.\n",
      "  warn_deprecated(\n"
     ]
    },
    {
     "data": {
      "text/plain": [
       "\"\\n\\nAs a financial advisor, it's important for you to understand the basics of income tax so you can help your clients make informed decisions about their finances. Income tax is a tax that individuals and businesses are required to pay on the income they earn. It is a key source of revenue for the government and is used to fund various public services and programs.\\n\\nThe amount of income tax an individual or business owes is based on their taxable income, which is calculated by subtracting any deductions or exemptions from their total income. The tax rate that applies to their taxable income depends on their tax bracket, which is determined by their annual income.\\n\\nThere are several types of income that are subject to taxation, such as wages, salaries, tips, interest, dividends, and capital gains. However, there are also certain types of income that are exempt from taxation, such as gifts, inheritances, and certain types of retirement income.\\n\\nMost individuals and businesses are required to file an annual income tax return with the government. This is where they report their total income and claim any deductions or credits they are eligible for. The deadline for filing income tax returns is typically April 15th, although this can vary depending on the country.\\n\\nIt's important for individuals and businesses to accurately report their income and claim\""
      ]
     },
     "execution_count": 6,
     "metadata": {},
     "output_type": "execute_result"
    }
   ],
   "source": [
    "chain1.run('income tax')"
   ]
  },
  {
   "cell_type": "code",
   "execution_count": 8,
   "metadata": {},
   "outputs": [
    {
     "data": {
      "text/plain": [
       "{'financial_concept': 'GDP',\n",
       " 'text': \"\\n\\nSure, I would be happy to act as a financial advisor and explain the basics of GDP to you.\\n\\nGDP stands for Gross Domestic Product, and it is a measure of the total value of all goods and services produced within a country's borders in a specific time period, usually a year. It is an important economic indicator that helps us understand the overall health and growth of a country's economy.\\n\\nThere are four main components of GDP: consumption, investment, government spending, and net exports. Consumption refers to the total amount of money spent by individuals on goods and services, such as food, clothing, and housing. Investment includes business spending on things like equipment, buildings, and research and development. Government spending includes all the money spent by the government on goods and services, such as infrastructure, education, and defense. Net exports refer to the difference between a country's exports and imports.\\n\\nTo calculate GDP, we add up the total value of all these components. For example, if a country's consumption is $10 trillion, investment is $3 trillion, government spending is $4 trillion, and net exports are $1 trillion, then the GDP of that country would be $18 trillion.\\n\\nGDP is important because it gives us an idea of how much a country is\"}"
      ]
     },
     "execution_count": 8,
     "metadata": {},
     "output_type": "execute_result"
    }
   ],
   "source": [
    "chain1.invoke('GDP')"
   ]
  },
  {
   "cell_type": "code",
   "execution_count": 13,
   "metadata": {},
   "outputs": [
    {
     "data": {
      "text/plain": [
       "\"In an easy way translate the following sentence 'How are you' into Nepali\""
      ]
     },
     "execution_count": 13,
     "metadata": {},
     "output_type": "execute_result"
    }
   ],
   "source": [
    "## Lanuage Translation\n",
    "\n",
    "from langchain import PromptTemplate\n",
    "\n",
    "template = '''In an easy way translate the following sentence '{sentence}' into {target_language}'''\n",
    "language_prompt = PromptTemplate(\n",
    "    input_variables = ['sentence', 'target_language'],\n",
    "    template=template,\n",
    ")\n",
    "\n",
    "language_prompt.format(sentence = 'How are you', target_language='Nepali')\n"
   ]
  },
  {
   "cell_type": "code",
   "execution_count": 14,
   "metadata": {},
   "outputs": [
    {
     "name": "stderr",
     "output_type": "stream",
     "text": [
      "c:\\Users\\sangi\\anaconda3\\Lib\\site-packages\\langchain_core\\_api\\deprecation.py:117: LangChainDeprecationWarning: The function `__call__` was deprecated in LangChain 0.1.0 and will be removed in 0.2.0. Use invoke instead.\n",
      "  warn_deprecated(\n"
     ]
    },
    {
     "data": {
      "text/plain": [
       "{'sentence': 'Hello how are you',\n",
       " 'target_language': 'Nepali',\n",
       " 'text': '\\n\\nनमस्ते तपाइलाई कस्तो छ?'}"
      ]
     },
     "execution_count": 14,
     "metadata": {},
     "output_type": "execute_result"
    }
   ],
   "source": [
    "chain2 = LLMChain(llm=llm, prompt = language_prompt)\n",
    "\n",
    "chain2({'sentence': 'Hello how are you', 'target_language':'Nepali'}) #when we have more than one parameters, need to give as a keys"
   ]
  },
  {
   "cell_type": "code",
   "execution_count": 32,
   "metadata": {},
   "outputs": [
    {
     "data": {
      "text/plain": [
       "{'sentence': 'I am learning LLM models using the Langchain and I am enjoying this learning journey',\n",
       " 'target_language': 'Nepali',\n",
       " 'text': '\\n\\nम ल्याङचेनयानि अनुसार LLM मोडेलहरू सिकिरहेको छु र यो सिकाई यात्रालाई मन परेको छ।'}"
      ]
     },
     "execution_count": 32,
     "metadata": {},
     "output_type": "execute_result"
    }
   ],
   "source": [
    "chain2({'sentence': 'I am learning LLM models using the Langchain and I am enjoying this learning journey', 'target_language':'Nepali'}) #when we have more than one parameters, need to give as a keys"
   ]
  },
  {
   "cell_type": "code",
   "execution_count": 18,
   "metadata": {},
   "outputs": [],
   "source": [
    "#FewShotPromptTemplate can be used to enable in-context learning where we provide demonstrations in the prompt to steer the model to better performance. \n",
    "from langchain import PromptTemplate, FewShotPromptTemplate\n",
    "\n",
    "#First, let's create the list of few shot examples.\n",
    "\n",
    "examples = [\n",
    "    {'word': 'happy', 'antonym': 'sad'},\n",
    "    {'word': 'tall', 'antonym': 'short'},\n",
    "]\n",
    "\n",
    "#Now, we specify the template to format the examples we have provided.\n",
    "#We use the 'PromptTemplate' class for this.\n",
    "\n",
    "example_formatter_template = '''Word: {word}, \n",
    "Antonym:{antonym}'''\n",
    "\n",
    "example_prompt = PromptTemplate(\n",
    "    input_variables=['word', 'antonym'],\n",
    "    template = example_formatter_template,\n",
    "\n",
    ")\n"
   ]
  },
  {
   "cell_type": "code",
   "execution_count": 24,
   "metadata": {},
   "outputs": [],
   "source": [
    "#Let's create the 'FewShotPromptTemplate' object\n",
    "\n",
    "few_shot_prompt=FewShotPromptTemplate(\n",
    "#these are the examples we want to insert into the prompt.\n",
    "    examples = examples,\n",
    "\n",
    "#This is how we want to format the examples when we insert them into the prompt.\n",
    "    example_prompt = example_prompt,\n",
    "\n",
    "    prefix = 'Give the antonym of every input\\n',\n",
    "    suffix = 'Word:{input}\\nAntonym:',\n",
    "\n",
    "    input_variables = ['input'],\n",
    "\n",
    "    example_separator = '\\n',\n",
    "\n",
    ")"
   ]
  },
  {
   "cell_type": "code",
   "execution_count": 25,
   "metadata": {},
   "outputs": [
    {
     "name": "stdout",
     "output_type": "stream",
     "text": [
      "Give the antonym of every input\n",
      "\n",
      "Word: happy, \n",
      "Antonym:sad\n",
      "Word: tall, \n",
      "Antonym:short\n",
      "Word:big\n",
      "Antonym:\n"
     ]
    }
   ],
   "source": [
    "#giving the input ot the llm model\n",
    "print(few_shot_prompt.format(input='big'))"
   ]
  },
  {
   "cell_type": "code",
   "execution_count": 27,
   "metadata": {},
   "outputs": [
    {
     "data": {
      "text/plain": [
       "{'input': 'big', 'text': ' small'}"
      ]
     },
     "execution_count": 27,
     "metadata": {},
     "output_type": "execute_result"
    }
   ],
   "source": [
    "chain3 = LLMChain(llm=llm, prompt=few_shot_prompt)\n",
    "chain3({'input': 'big'})"
   ]
  },
  {
   "cell_type": "code",
   "execution_count": 29,
   "metadata": {},
   "outputs": [
    {
     "data": {
      "text/plain": [
       "' small'"
      ]
     },
     "execution_count": 29,
     "metadata": {},
     "output_type": "execute_result"
    }
   ],
   "source": [
    "chain3.run('big')"
   ]
  }
 ],
 "metadata": {
  "kernelspec": {
   "display_name": "base",
   "language": "python",
   "name": "python3"
  },
  "language_info": {
   "codemirror_mode": {
    "name": "ipython",
    "version": 3
   },
   "file_extension": ".py",
   "mimetype": "text/x-python",
   "name": "python",
   "nbconvert_exporter": "python",
   "pygments_lexer": "ipython3",
   "version": "3.11.5"
  }
 },
 "nbformat": 4,
 "nbformat_minor": 2
}
